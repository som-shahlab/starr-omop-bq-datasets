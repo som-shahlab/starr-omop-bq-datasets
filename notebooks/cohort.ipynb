{
 "cells": [
  {
   "cell_type": "markdown",
   "id": "866bc787-1e29-43bf-9c15-85a589c21cc1",
   "metadata": {},
   "source": [
    "#### Defining a cohort\n",
    "\n",
    "A cohort is a table in which rows correspond to unique combinations of `person_id`, `window_start_field` (e.g., admit_date), and `window_end_field` (e.g., discharge_date).\n",
    "\n",
    "Here, we will call a pre-defined set of transformations to define a cohort of hospital admissions. Refer to the source code for details on how this cohort is defined. In practice, a cohort can be defined arbitrarily, as long as it meets the specifications described above and is stored in a table in Google Big Query. "
   ]
  },
  {
   "cell_type": "code",
   "execution_count": 1,
   "id": "68b32a87-8a58-41ce-aeb5-a3b5d83a1e35",
   "metadata": {},
   "outputs": [],
   "source": [
    "import pandas as pd\n",
    "from datasets.cohorts.admissions import AdmissionCohort"
   ]
  },
  {
   "cell_type": "markdown",
   "id": "5b055f4e-94c2-4b06-9394-5c4826fc61bb",
   "metadata": {},
   "source": [
    "#### Instantiate Admission Cohort"
   ]
  },
  {
   "cell_type": "code",
   "execution_count": 2,
   "id": "aa38d440-9dbe-4530-80ff-6090e3c41c13",
   "metadata": {},
   "outputs": [
    {
     "name": "stderr",
     "output_type": "stream",
     "text": [
      "/local-scratch/nigam/envs/lguo/starr-datasets/lib/python3.9/site-packages/google/auth/_default.py:81: UserWarning: Your application has authenticated using end user credentials from Google Cloud SDK without a quota project. You might receive a \"quota exceeded\" or \"API not enabled\" error. We recommend you rerun `gcloud auth application-default login` and make sure a quota project is added. Or you can use service accounts instead. For more information about service accounts, see https://cloud.google.com/docs/authentication/\n",
      "  warnings.warn(_CLOUD_SDK_CREDENTIALS_WARNING)\n"
     ]
    }
   ],
   "source": [
    "cohort = AdmissionCohort()"
   ]
  },
  {
   "cell_type": "markdown",
   "id": "6d19d34e-cdf1-4ee6-9549-9d485b4d9d30",
   "metadata": {},
   "source": [
    "#### Configure Cohort\n",
    "- `google_application_credentials`: location of the json file that stores the gcloud auth credentials. Default is \"~/.config/gcloud/application_default_credential.json\", the default location after auth setup using the command `gcloud auth application-default login`\n",
    "- `glcoud_project`: gcloud project [default \"som-nero-nigam-starr\"]\n",
    "- `dataset_project`: project in which OMOP CDM dataset is stored [default \"som-nero-nigam-starr\"]\n",
    "- `rs_dataset_project`: project in which cohort table is stored and to which the label table will be written [default \"som-nero-nigam-starr\"]\n",
    "- `dataset`: name of the OMOP CDM dataset [default \"starr_omop_cdm5_deid_20210723\"]\n",
    "- `rs_dataset`: name of the dataset in which cohort table is stored and to which the label table will be written\n",
    "- `cohort_name`: name of the cohort\n",
    "- `limit`: Optionally used for debugging to restrict the number of rows in the cohort table\n",
    "- `min_stay_hour`: Optionally used to filter based on length (in hours) of the time window\n",
    "- `limit_str`: Optional; Created using `limit`, but can can be customly specified\n",
    "- `where_str`: Optional; Created using `min_stay_hour`, but can be customly specified"
   ]
  },
  {
   "cell_type": "code",
   "execution_count": 4,
   "id": "d2c26b31-602c-49cc-a326-5fee07b6f7d0",
   "metadata": {},
   "outputs": [],
   "source": [
    "cohort.configure(\n",
    "    rs_dataset='lguo_explore',\n",
    "    cohort_name='test_refactor_admissions_rollup'\n",
    ")"
   ]
  },
  {
   "cell_type": "code",
   "execution_count": 5,
   "id": "8308753f-c7ec-443b-9a02-1abd1feb4e82",
   "metadata": {},
   "outputs": [
    {
     "data": {
      "text/plain": [
       "{'google_application_credentials': '/home/guolin1/.config/gcloud/application_default_credentials.json',\n",
       " 'gcloud_project': 'som-nero-nigam-starr',\n",
       " 'dataset_project': 'som-nero-nigam-starr',\n",
       " 'rs_dataset_project': 'som-nero-nigam-starr',\n",
       " 'dataset': 'starr_omop_cdm5_deid_20210723',\n",
       " 'rs_dataset': 'lguo_explore',\n",
       " 'cohort_name': 'test_refactor_admissions_rollup',\n",
       " 'limit': None,\n",
       " 'min_stay_hour': None,\n",
       " 'limit_str': '',\n",
       " 'where_str': ''}"
      ]
     },
     "execution_count": 5,
     "metadata": {},
     "output_type": "execute_result"
    }
   ],
   "source": [
    "cohort.config"
   ]
  },
  {
   "cell_type": "markdown",
   "id": "4daaa7f6-d997-41ec-b34a-eb5f3549d1e1",
   "metadata": {},
   "source": [
    "#### Create Cohort Table on GBQ"
   ]
  },
  {
   "cell_type": "code",
   "execution_count": 6,
   "id": "54a34857-bee9-4927-9a7b-48f9faea99ea",
   "metadata": {},
   "outputs": [],
   "source": [
    "cohort.create_cohort_table()"
   ]
  },
  {
   "cell_type": "code",
   "execution_count": 7,
   "id": "ef1e1eac-f188-4456-8e0b-a89d15d10e9c",
   "metadata": {},
   "outputs": [
    {
     "name": "stderr",
     "output_type": "stream",
     "text": [
      "/local-scratch/nigam/envs/lguo/starr-datasets/lib/python3.9/site-packages/google/auth/_default.py:81: UserWarning: Your application has authenticated using end user credentials from Google Cloud SDK without a quota project. You might receive a \"quota exceeded\" or \"API not enabled\" error. We recommend you rerun `gcloud auth application-default login` and make sure a quota project is added. Or you can use service accounts instead. For more information about service accounts, see https://cloud.google.com/docs/authentication/\n",
      "  warnings.warn(_CLOUD_SDK_CREDENTIALS_WARNING)\n"
     ]
    }
   ],
   "source": [
    "df = pd.read_gbq(\"\"\"\n",
    "select * from `som-nero-nigam-starr.lguo_explore.test_refactor_admissions_rollup` limit 1000\n",
    "\"\"\",use_bqstorage_api=True)"
   ]
  },
  {
   "cell_type": "code",
   "execution_count": 8,
   "id": "a7ff8690-06f9-46ce-8396-61abcc796d70",
   "metadata": {},
   "outputs": [
    {
     "data": {
      "text/html": [
       "<div>\n",
       "<style scoped>\n",
       "    .dataframe tbody tr th:only-of-type {\n",
       "        vertical-align: middle;\n",
       "    }\n",
       "\n",
       "    .dataframe tbody tr th {\n",
       "        vertical-align: top;\n",
       "    }\n",
       "\n",
       "    .dataframe thead th {\n",
       "        text-align: right;\n",
       "    }\n",
       "</style>\n",
       "<table border=\"1\" class=\"dataframe\">\n",
       "  <thead>\n",
       "    <tr style=\"text-align: right;\">\n",
       "      <th></th>\n",
       "      <th>person_id</th>\n",
       "      <th>admit_date</th>\n",
       "      <th>discharge_date</th>\n",
       "    </tr>\n",
       "  </thead>\n",
       "  <tbody>\n",
       "    <tr>\n",
       "      <th>0</th>\n",
       "      <td>29923082</td>\n",
       "      <td>2018-10-16 13:30:00</td>\n",
       "      <td>2018-10-24 13:08:00</td>\n",
       "    </tr>\n",
       "    <tr>\n",
       "      <th>1</th>\n",
       "      <td>29923083</td>\n",
       "      <td>2018-07-22 20:22:00</td>\n",
       "      <td>2018-07-26 14:45:00</td>\n",
       "    </tr>\n",
       "    <tr>\n",
       "      <th>2</th>\n",
       "      <td>29923090</td>\n",
       "      <td>2018-02-04 08:05:00</td>\n",
       "      <td>2018-02-09 11:27:00</td>\n",
       "    </tr>\n",
       "    <tr>\n",
       "      <th>3</th>\n",
       "      <td>29923110</td>\n",
       "      <td>2015-06-27 17:03:00</td>\n",
       "      <td>2015-06-30 12:20:00</td>\n",
       "    </tr>\n",
       "    <tr>\n",
       "      <th>4</th>\n",
       "      <td>29923110</td>\n",
       "      <td>2020-10-27 09:06:00</td>\n",
       "      <td>2020-10-31 14:55:00</td>\n",
       "    </tr>\n",
       "  </tbody>\n",
       "</table>\n",
       "</div>"
      ],
      "text/plain": [
       "   person_id          admit_date      discharge_date\n",
       "0   29923082 2018-10-16 13:30:00 2018-10-24 13:08:00\n",
       "1   29923083 2018-07-22 20:22:00 2018-07-26 14:45:00\n",
       "2   29923090 2018-02-04 08:05:00 2018-02-09 11:27:00\n",
       "3   29923110 2015-06-27 17:03:00 2015-06-30 12:20:00\n",
       "4   29923110 2020-10-27 09:06:00 2020-10-31 14:55:00"
      ]
     },
     "execution_count": 8,
     "metadata": {},
     "output_type": "execute_result"
    }
   ],
   "source": [
    "df.head(5)"
   ]
  },
  {
   "cell_type": "code",
   "execution_count": null,
   "id": "0250dd97-fc1c-440f-8121-9b300a38fbe1",
   "metadata": {},
   "outputs": [],
   "source": []
  }
 ],
 "metadata": {
  "kernelspec": {
   "display_name": "Python 3 (ipykernel)",
   "language": "python",
   "name": "python3"
  },
  "language_info": {
   "codemirror_mode": {
    "name": "ipython",
    "version": 3
   },
   "file_extension": ".py",
   "mimetype": "text/x-python",
   "name": "python",
   "nbconvert_exporter": "python",
   "pygments_lexer": "ipython3",
   "version": "3.9.13"
  }
 },
 "nbformat": 4,
 "nbformat_minor": 5
}
